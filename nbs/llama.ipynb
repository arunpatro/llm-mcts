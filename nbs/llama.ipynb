{
 "cells": [
  {
   "cell_type": "code",
   "execution_count": 57,
   "metadata": {},
   "outputs": [
    {
     "name": "stderr",
     "output_type": "stream",
     "text": [
      "llama_model_loader: loaded meta data with 19 key-value pairs and 325 tensors from ../phi-2.fp16.gguf (version GGUF V3 (latest))\n",
      "llama_model_loader: Dumping metadata keys/values. Note: KV overrides do not apply in this output.\n",
      "llama_model_loader: - kv   0:                       general.architecture str              = phi2\n",
      "llama_model_loader: - kv   1:                               general.name str              = Phi2\n",
      "llama_model_loader: - kv   2:                        phi2.context_length u32              = 2048\n",
      "llama_model_loader: - kv   3:                      phi2.embedding_length u32              = 2560\n",
      "llama_model_loader: - kv   4:                   phi2.feed_forward_length u32              = 10240\n",
      "llama_model_loader: - kv   5:                           phi2.block_count u32              = 32\n",
      "llama_model_loader: - kv   6:                  phi2.attention.head_count u32              = 32\n",
      "llama_model_loader: - kv   7:               phi2.attention.head_count_kv u32              = 32\n",
      "llama_model_loader: - kv   8:          phi2.attention.layer_norm_epsilon f32              = 0.000010\n",
      "llama_model_loader: - kv   9:                  phi2.rope.dimension_count u32              = 32\n",
      "llama_model_loader: - kv  10:                          general.file_type u32              = 1\n",
      "llama_model_loader: - kv  11:               tokenizer.ggml.add_bos_token bool             = false\n",
      "llama_model_loader: - kv  12:                       tokenizer.ggml.model str              = gpt2\n",
      "llama_model_loader: - kv  13:                      tokenizer.ggml.tokens arr[str,51200]   = [\"!\", \"\\\"\", \"#\", \"$\", \"%\", \"&\", \"'\", ...\n",
      "llama_model_loader: - kv  14:                  tokenizer.ggml.token_type arr[i32,51200]   = [1, 1, 1, 1, 1, 1, 1, 1, 1, 1, 1, 1, ...\n",
      "llama_model_loader: - kv  15:                      tokenizer.ggml.merges arr[str,50000]   = [\"Ġ t\", \"Ġ a\", \"h e\", \"i n\", \"r e\",...\n",
      "llama_model_loader: - kv  16:                tokenizer.ggml.bos_token_id u32              = 50256\n",
      "llama_model_loader: - kv  17:                tokenizer.ggml.eos_token_id u32              = 50256\n",
      "llama_model_loader: - kv  18:            tokenizer.ggml.unknown_token_id u32              = 50256\n",
      "llama_model_loader: - type  f32:  195 tensors\n",
      "llama_model_loader: - type  f16:  130 tensors\n",
      "llm_load_vocab: mismatch in special tokens definition ( 910/51200 vs 944/51200 ).\n",
      "llm_load_print_meta: format           = GGUF V3 (latest)\n",
      "llm_load_print_meta: arch             = phi2\n",
      "llm_load_print_meta: vocab type       = BPE\n",
      "llm_load_print_meta: n_vocab          = 51200\n",
      "llm_load_print_meta: n_merges         = 50000\n",
      "llm_load_print_meta: n_ctx_train      = 2048\n",
      "llm_load_print_meta: n_embd           = 2560\n",
      "llm_load_print_meta: n_head           = 32\n",
      "llm_load_print_meta: n_head_kv        = 32\n",
      "llm_load_print_meta: n_layer          = 32\n",
      "llm_load_print_meta: n_rot            = 32\n",
      "llm_load_print_meta: n_embd_head_k    = 80\n",
      "llm_load_print_meta: n_embd_head_v    = 80\n",
      "llm_load_print_meta: n_gqa            = 1\n",
      "llm_load_print_meta: n_embd_k_gqa     = 2560\n",
      "llm_load_print_meta: n_embd_v_gqa     = 2560\n",
      "llm_load_print_meta: f_norm_eps       = 1.0e-05\n",
      "llm_load_print_meta: f_norm_rms_eps   = 0.0e+00\n",
      "llm_load_print_meta: f_clamp_kqv      = 0.0e+00\n",
      "llm_load_print_meta: f_max_alibi_bias = 0.0e+00\n",
      "llm_load_print_meta: n_ff             = 10240\n",
      "llm_load_print_meta: n_expert         = 0\n",
      "llm_load_print_meta: n_expert_used    = 0\n",
      "llm_load_print_meta: rope scaling     = linear\n",
      "llm_load_print_meta: freq_base_train  = 10000.0\n",
      "llm_load_print_meta: freq_scale_train = 1\n",
      "llm_load_print_meta: n_yarn_orig_ctx  = 2048\n",
      "llm_load_print_meta: rope_finetuned   = unknown\n",
      "llm_load_print_meta: model type       = 3B\n",
      "llm_load_print_meta: model ftype      = F16\n",
      "llm_load_print_meta: model params     = 2.78 B\n",
      "llm_load_print_meta: model size       = 5.18 GiB (16.01 BPW) \n",
      "llm_load_print_meta: general.name     = Phi2\n",
      "llm_load_print_meta: BOS token        = 50256 '<|endoftext|>'\n",
      "llm_load_print_meta: EOS token        = 50256 '<|endoftext|>'\n",
      "llm_load_print_meta: UNK token        = 50256 '<|endoftext|>'\n",
      "llm_load_print_meta: LF token         = 128 'Ä'\n",
      "llm_load_tensors: ggml ctx size       =    0.12 MiB\n",
      "ggml_backend_metal_buffer_from_ptr: allocated buffer, size =  5305.38 MiB, ( 8930.02 / 21845.34)\n",
      "llm_load_tensors: system memory used  = 5303.78 MiB\n",
      ".............................................................................................\n",
      "llama_new_context_with_model: n_ctx      = 2048\n",
      "llama_new_context_with_model: freq_base  = 10000.0\n",
      "llama_new_context_with_model: freq_scale = 1\n",
      "ggml_metal_init: allocating\n",
      "ggml_metal_init: found device: Apple M2 Pro\n",
      "ggml_metal_init: picking default device: Apple M2 Pro\n",
      "ggml_metal_init: ggml.metallib not found, loading from source\n",
      "ggml_metal_init: GGML_METAL_PATH_RESOURCES = nil\n",
      "ggml_metal_init: loading '/Users/robertshin/miniforge3/envs/llm-mcts/lib/python3.11/site-packages/llama_cpp/ggml-metal.metal'\n",
      "ggml_metal_init: GPU name:   Apple M2 Pro\n",
      "ggml_metal_init: GPU family: MTLGPUFamilyApple8 (1008)\n",
      "ggml_metal_init: hasUnifiedMemory              = true\n",
      "ggml_metal_init: recommendedMaxWorkingSetSize  = 22906.50 MB\n",
      "ggml_metal_init: maxTransferRate               = built-in GPU\n",
      "ggml_backend_metal_buffer_type_alloc_buffer: allocated buffer, size =   640.00 MiB, ( 9570.02 / 21845.34)\n",
      "llama_new_context_with_model: KV self size  =  640.00 MiB, K (f16):  320.00 MiB, V (f16):  320.00 MiB\n",
      "ggml_backend_metal_buffer_type_alloc_buffer: allocated buffer, size =     0.02 MiB, ( 9570.03 / 21845.34)\n",
      "llama_build_graph: non-view tensors processed: 774/774\n",
      "llama_new_context_with_model: compute buffer total size = 165.19 MiB\n",
      "ggml_backend_metal_buffer_type_alloc_buffer: allocated buffer, size =   162.02 MiB, ( 9732.03 / 21845.34)\n",
      "AVX = 0 | AVX_VNNI = 0 | AVX2 = 0 | AVX512 = 0 | AVX512_VBMI = 0 | AVX512_VNNI = 0 | FMA = 0 | NEON = 1 | ARM_FMA = 1 | F16C = 0 | FP16_VA = 1 | WASM_SIMD = 0 | BLAS = 1 | SSE3 = 0 | SSSE3 = 0 | VSX = 0 | \n",
      "ggml_metal_free: deallocating\n"
     ]
    }
   ],
   "source": [
    "from llama_cpp import Llama\n",
    "from human_eval.execution import check_correctness\n",
    "from human_eval.data import HUMAN_EVAL, stream_jsonl\n",
    "\n",
    "model = Llama(\n",
    "    model_path=\"../phi-2.fp16.gguf\",\n",
    "    n_gpu_layers=-1,\n",
    "    n_ctx=2048,\n",
    "    n_threads=10,\n",
    ")\n",
    "\n",
    "problems = list(stream_jsonl(HUMAN_EVAL))\n",
    "tid_map = {problem[\"task_id\"]: problem for problem in problems}\n",
    "\n",
    "def execute(problem, completion, timeout=10):\n",
    "    result = check_correctness(problem, completion, timeout)\n",
    "    return result"
   ]
  },
  {
   "cell_type": "code",
   "execution_count": 87,
   "metadata": {},
   "outputs": [
    {
     "name": "stdout",
     "output_type": "stream",
     "text": [
      "from typing import List\n",
      "\n",
      "\n",
      "def has_close_elements(numbers: List[float], threshold: float) -> bool:\n",
      "    \"\"\" Check if in given list of numbers, are any two numbers closer to each other than\n",
      "    given threshold.\n",
      "    >>> has_close_elements([1.0, 2.0, 3.0], 0.5)\n",
      "    False\n",
      "    >>> has_close_elements([1.0, 2.8, 3.0, 4.0, 5.0, 2.0], 0.3)\n",
      "    True\n",
      "    \"\"\"\n",
      "\n",
      "[50256, 6738, 19720, 1330, 7343, 628, 198, 4299, 468, 62, 19836, 62, 68, 3639, 7, 77, 17024, 25, 7343, 58, 22468, 4357, 11387, 25, 12178, 8, 4613, 20512, 25, 198, 220, 220, 220, 37227, 6822, 611, 287, 1813, 1351, 286, 3146, 11, 389, 597, 734, 3146, 5699, 284, 1123, 584, 621, 198, 220, 220, 220, 1813, 11387, 13, 198, 220, 220, 220, 13163, 468, 62, 19836, 62, 68, 3639, 26933, 16, 13, 15, 11, 362, 13, 15, 11, 513, 13, 15, 4357, 657, 13, 20, 8, 198, 220, 220, 220, 10352, 198, 220, 220, 220, 13163, 468, 62, 19836, 62, 68, 3639, 26933, 16, 13, 15, 11, 362, 13, 23, 11, 513, 13, 15, 11, 604, 13, 15, 11, 642, 13, 15, 11, 362, 13, 15, 4357, 657, 13, 18, 8, 198, 220, 220, 220, 6407, 198, 220, 220, 220, 37227, 198]\n"
     ]
    },
    {
     "data": {
      "text/plain": [
       "'    False'"
      ]
     },
     "execution_count": 87,
     "metadata": {},
     "output_type": "execute_result"
    }
   ],
   "source": [
    "prompt = problems[0][\"prompt\"]\n",
    "print(prompt)\n",
    "tokens = model.tokenize(prompt.encode(\"utf-8\"))\n",
    "print(tokens)\n",
    "model.detokenize([220, 220, 220, 10352]).decode(\"utf-8\")"
   ]
  },
  {
   "cell_type": "code",
   "execution_count": 58,
   "metadata": {},
   "outputs": [],
   "source": [
    "import outlines\n",
    "\n",
    "@outlines.prompt\n",
    "def few_shot_prompt(instructions, examples, question):\n",
    "    \"\"\"{{ instructions }}\n",
    "\n",
    "    {% for example in examples %}\n",
    "    Question:\n",
    "    ```\n",
    "    {{ example.prompt }}\n",
    "    ```\n",
    "    Answer:\n",
    "    ```\n",
    "    {{ example.canonical_solution }}\n",
    "    ```\n",
    "    {% endfor %}\n",
    "    Question:\n",
    "    ```\n",
    "    {{ question }}\n",
    "    ```\n",
    "    Answer:\n",
    "    ```\n",
    "    \"\"\"\n",
    "\n",
    "\n",
    "instructions = \"Please answer the following question following the examples. Always indent with four spaces for python code.\"\n",
    "examples = problems[:2]"
   ]
  },
  {
   "cell_type": "code",
   "execution_count": 61,
   "metadata": {},
   "outputs": [
    {
     "name": "stderr",
     "output_type": "stream",
     "text": [
      "Llama.generate: prefix-match hit\n",
      "\n",
      "llama_print_timings:        load time =    1368.49 ms\n",
      "llama_print_timings:      sample time =      58.05 ms /   256 runs   (    0.23 ms per token,  4409.76 tokens per second)\n",
      "llama_print_timings: prompt eval time =     294.37 ms /    81 tokens (    3.63 ms per token,   275.16 tokens per second)\n",
      "llama_print_timings:        eval time =    8925.84 ms /   255 runs   (   35.00 ms per token,    28.57 tokens per second)\n",
      "llama_print_timings:       total time =   10089.17 ms\n"
     ]
    }
   ],
   "source": [
    "results = []\n",
    "for problem in problems[11:12]:\n",
    "    # prompt = few_shot_prompt(instructions, examples, problem[\"prompt\"])\n",
    "    prompt = problem[\"prompt\"]\n",
    "    output = model(\n",
    "        prompt=prompt,\n",
    "        max_tokens=256,\n",
    "        temperature=0.2,\n",
    "        stop=[\"```\"],\n",
    "    )\n",
    "    completion = output[\"choices\"][0][\"text\"]\n",
    "    result = execute(problem, completion)\n",
    "    result[\"prompt\"] = prompt\n",
    "    result[\"completion\"] = completion\n",
    "    results.append(result)"
   ]
  },
  {
   "cell_type": "code",
   "execution_count": 62,
   "metadata": {},
   "outputs": [
    {
     "name": "stdout",
     "output_type": "stream",
     "text": [
      "from typing import List\n",
      "\n",
      "\n",
      "def string_xor(a: str, b: str) -> str:\n",
      "    \"\"\" Input are two strings a and b consisting only of 1s and 0s.\n",
      "    Perform binary XOR on these inputs and return result also as a string.\n",
      "    >>> string_xor('010', '110')\n",
      "    '100'\n",
      "    \"\"\"\n",
      "\n",
      "if len(a) != len(b):\n",
      "raise ValueError(\"Strings must be of same length\")\n",
      "\n",
      "result = \"\"\n",
      "for i in range(len(a)):\n",
      "if a[i] == b[i]:\n",
      "result += \"0\"\n",
      "else:\n",
      "result += \"1\"\n",
      "\n",
      "return result\n",
      "\n",
      "\n",
      "def string_xor2(a: str, b: str) -> str:\n",
      "\"\"\" Input are two strings a and b consisting only of 1s and 0s.\n",
      " Perform binary XOR on these inputs and return result also as a string.\n",
      " >>> string_xor('010', '110')\n",
      "'100'\n",
      "\"\"\"\n",
      "\n",
      "if len(a) != len(b):\n",
      "raise ValueError(\"Strings must be of same length\")\n",
      "\n",
      "result = \"\"\n",
      "for i in range(len(a)):\n",
      "result += str(int(a[i]) ^ int(b[i]))\n",
      "\n",
      "return result\n",
      "\n",
      "\n",
      "def string_xor3(a: str, b: str) -> str:\n",
      "\"\"\" Input are two strings a and b consisting only of 1s and\n"
     ]
    }
   ],
   "source": [
    "print(results[0][\"prompt\"])\n",
    "print(results[0][\"completion\"])"
   ]
  }
 ],
 "metadata": {
  "kernelspec": {
   "display_name": "arun",
   "language": "python",
   "name": "python3"
  },
  "language_info": {
   "codemirror_mode": {
    "name": "ipython",
    "version": 3
   },
   "file_extension": ".py",
   "mimetype": "text/x-python",
   "name": "python",
   "nbconvert_exporter": "python",
   "pygments_lexer": "ipython3",
   "version": "3.11.7"
  }
 },
 "nbformat": 4,
 "nbformat_minor": 2
}
