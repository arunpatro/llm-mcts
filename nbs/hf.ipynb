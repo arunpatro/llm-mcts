{
 "cells": [
  {
   "cell_type": "code",
   "execution_count": null,
   "metadata": {},
   "outputs": [],
   "source": [
    "import torch\n",
    "import transformers\n",
    "\n",
    "# model_name = \"gpt2\"\n",
    "model_name = \"microsoft/phi-2\"\n",
    "model = transformers.AutoModelForCausalLM.from_pretrained(model_name, temperature=0.2, trust_remote_code=True, torch_dtype=torch.bfloat16)\n",
    "tokenizer = transformers.AutoTokenizer.from_pretrained(model_name, trust_remote_code=True)"
   ]
  },
  {
   "cell_type": "code",
   "execution_count": null,
   "metadata": {},
   "outputs": [],
   "source": [
    "prompt = \"The meaning of life is\"\n",
    "input_ids = tokenizer.encode(prompt, return_tensors=\"pt\")\n",
    "output = model.generate(input_ids, max_length=50, do_sample=True)\n",
    "print(tokenizer.decode(output[0], skip_special_tokens=True))"
   ]
  },
  {
   "cell_type": "code",
   "execution_count": null,
   "metadata": {},
   "outputs": [],
   "source": [
    "import outlines\n",
    "from human_eval.data import HUMAN_EVAL, stream_jsonl\n",
    "problems = list(stream_jsonl(HUMAN_EVAL))"
   ]
  },
  {
   "cell_type": "code",
   "execution_count": null,
   "metadata": {},
   "outputs": [],
   "source": [
    "len(problems)"
   ]
  },
  {
   "cell_type": "code",
   "execution_count": null,
   "metadata": {},
   "outputs": [],
   "source": [
    "problems[:2]"
   ]
  },
  {
   "cell_type": "code",
   "execution_count": null,
   "metadata": {},
   "outputs": [],
   "source": [
    "@outlines.prompt\n",
    "def few_shots(instructions, examples, question):\n",
    "    \"\"\"{{ instructions }}\n",
    "\n",
    "    {% for example in examples %}\n",
    "    Question:\n",
    "    ```\n",
    "    {{ example.prompt }}\n",
    "    ```\n",
    "    Answer:\n",
    "    ```\n",
    "    {{ example.canonical_solution }}\n",
    "    ```\n",
    "    {% endfor %}\n",
    "\n",
    "    Question:\n",
    "    ```\n",
    "    {{ question }}\n",
    "    ```\n",
    "    Answer:\n",
    "    ```\n",
    "    \"\"\"\n",
    "\n",
    "instructions = \"Please answer the following question following the examples. Generate valid python code by indenting 4 spaces always.\"\n",
    "examples = problems[:2]\n",
    "# [\n",
    "#     {\"question\": \"2+2=?\", \"answer\":4},\n",
    "#     {\"question\": \"3+3=?\", \"answer\":6}\n",
    "# ]\n",
    "question = problems[3]['prompt']\n",
    "\n",
    "prompt = few_shots(instructions, examples, question)\n",
    "print(prompt)"
   ]
  },
  {
   "cell_type": "code",
   "execution_count": null,
   "metadata": {},
   "outputs": [],
   "source": [
    "input_ids = tokenizer.encode(prompt, return_tensors=\"pt\")\n",
    "output = model.generate(input_ids, max_new_tokens=80, do_sample=True)\n",
    "print(tokenizer.decode(output[0], skip_special_tokens=True))"
   ]
  },
  {
   "cell_type": "code",
   "execution_count": null,
   "metadata": {},
   "outputs": [],
   "source": [
    "output_str = tokenizer.decode(output[0, input_ids.shape[-1]:], skip_special_tokens=True)\n",
    "output_clean_str = output_str.split(\"```\")[0]\n",
    "print(output_clean_str)"
   ]
  },
  {
   "cell_type": "code",
   "execution_count": null,
   "metadata": {},
   "outputs": [],
   "source": [
    "output_str = tokenizer.decode(output[0, input_ids.shape[-1]:], skip_special_tokens=True)\n",
    "output_clean_str = output_str.split(\"```\")[0]\n",
    "print(output_clean_str)"
   ]
  },
  {
   "cell_type": "code",
   "execution_count": null,
   "metadata": {},
   "outputs": [],
   "source": [
    "print(problems[3]['canonical_solution'])"
   ]
  },
  {
   "cell_type": "code",
   "execution_count": null,
   "metadata": {},
   "outputs": [],
   "source": [
    "deep_tokenizer = transformers.AutoTokenizer.from_pretrained(\"codellama/CodeLlama-7b-Python-hf\", trust_remote_code=True)"
   ]
  },
  {
   "cell_type": "code",
   "execution_count": null,
   "metadata": {},
   "outputs": [],
   "source": [
    "prompt = \"        def\"\n",
    "deep_tokenizer(prompt, return_tensors=\"pt\")"
   ]
  },
  {
   "cell_type": "code",
   "execution_count": null,
   "metadata": {},
   "outputs": [],
   "source": [
    "deep_tokenizer.decode([308])"
   ]
  },
  {
   "cell_type": "code",
   "execution_count": null,
   "metadata": {},
   "outputs": [],
   "source": []
  }
 ],
 "metadata": {
  "kernelspec": {
   "display_name": "arun",
   "language": "python",
   "name": "python3"
  },
  "language_info": {
   "codemirror_mode": {
    "name": "ipython",
    "version": 3
   },
   "file_extension": ".py",
   "mimetype": "text/x-python",
   "name": "python",
   "nbconvert_exporter": "python",
   "pygments_lexer": "ipython3",
   "version": "3.10.13"
  }
 },
 "nbformat": 4,
 "nbformat_minor": 2
}
